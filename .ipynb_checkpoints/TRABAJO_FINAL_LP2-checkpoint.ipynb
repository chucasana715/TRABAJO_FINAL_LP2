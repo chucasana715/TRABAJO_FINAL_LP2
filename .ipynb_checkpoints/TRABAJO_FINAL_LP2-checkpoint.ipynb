{
 "cells": [
  {
   "cell_type": "markdown",
   "id": "bdb80d93",
   "metadata": {},
   "source": [
    "## Aplicando Web scraping a la página uniprot\n",
    "\n",
    "### Presentado por:\n",
    "* Chucas Mera, Ana Lisset\n",
    "* Huerta Barba, Stefano \n",
    "* Cuellar Tolentino, Elian \n",
    "\n",
    "### Objetivo\n",
    "Extraer la información de la pagina web Uniprot de cada gen para posteriormente almacenarlos en un archivo excel."
   ]
  }
 ],
 "metadata": {
  "kernelspec": {
   "display_name": "Python 3",
   "language": "python",
   "name": "python3"
  },
  "language_info": {
   "codemirror_mode": {
    "name": "ipython",
    "version": 3
   },
   "file_extension": ".py",
   "mimetype": "text/x-python",
   "name": "python",
   "nbconvert_exporter": "python",
   "pygments_lexer": "ipython3",
   "version": "3.8.8"
  }
 },
 "nbformat": 4,
 "nbformat_minor": 5
}
